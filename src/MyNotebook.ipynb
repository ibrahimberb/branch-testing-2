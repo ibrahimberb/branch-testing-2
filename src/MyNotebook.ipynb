{
 "cells": [
  {
   "cell_type": "markdown",
   "metadata": {},
   "source": [
    "# Branch Testing"
   ]
  },
  {
   "cell_type": "code",
   "execution_count": 2,
   "metadata": {},
   "outputs": [],
   "source": [
    "from utils.predator import Predator\n",
    "import numpy as np\n",
    "import pandas as pd"
   ]
  },
  {
   "cell_type": "code",
   "execution_count": 5,
   "metadata": {},
   "outputs": [
    {
     "data": {
      "text/html": [
       "<div>\n",
       "<style scoped>\n",
       "    .dataframe tbody tr th:only-of-type {\n",
       "        vertical-align: middle;\n",
       "    }\n",
       "\n",
       "    .dataframe tbody tr th {\n",
       "        vertical-align: top;\n",
       "    }\n",
       "\n",
       "    .dataframe thead th {\n",
       "        text-align: right;\n",
       "    }\n",
       "</style>\n",
       "<table border=\"1\" class=\"dataframe\">\n",
       "  <thead>\n",
       "    <tr style=\"text-align: right;\">\n",
       "      <th></th>\n",
       "      <th>0</th>\n",
       "      <th>1</th>\n",
       "      <th>2</th>\n",
       "      <th>3</th>\n",
       "    </tr>\n",
       "  </thead>\n",
       "  <tbody>\n",
       "    <tr>\n",
       "      <th>0</th>\n",
       "      <td>-1.876971</td>\n",
       "      <td>-0.259872</td>\n",
       "      <td>-0.999725</td>\n",
       "      <td>0.851324</td>\n",
       "    </tr>\n",
       "    <tr>\n",
       "      <th>1</th>\n",
       "      <td>-0.252894</td>\n",
       "      <td>-0.046496</td>\n",
       "      <td>-0.610357</td>\n",
       "      <td>-0.355466</td>\n",
       "    </tr>\n",
       "    <tr>\n",
       "      <th>2</th>\n",
       "      <td>0.352271</td>\n",
       "      <td>0.837393</td>\n",
       "      <td>0.554234</td>\n",
       "      <td>0.784716</td>\n",
       "    </tr>\n",
       "    <tr>\n",
       "      <th>3</th>\n",
       "      <td>1.052727</td>\n",
       "      <td>1.380456</td>\n",
       "      <td>-1.044765</td>\n",
       "      <td>-0.199342</td>\n",
       "    </tr>\n",
       "    <tr>\n",
       "      <th>4</th>\n",
       "      <td>0.338041</td>\n",
       "      <td>0.149912</td>\n",
       "      <td>-0.348694</td>\n",
       "      <td>-2.024354</td>\n",
       "    </tr>\n",
       "    <tr>\n",
       "      <th>5</th>\n",
       "      <td>0.788649</td>\n",
       "      <td>0.429558</td>\n",
       "      <td>-0.370100</td>\n",
       "      <td>-1.357453</td>\n",
       "    </tr>\n",
       "    <tr>\n",
       "      <th>6</th>\n",
       "      <td>-0.602844</td>\n",
       "      <td>-0.105175</td>\n",
       "      <td>-1.353093</td>\n",
       "      <td>0.280141</td>\n",
       "    </tr>\n",
       "    <tr>\n",
       "      <th>7</th>\n",
       "      <td>0.776817</td>\n",
       "      <td>0.784560</td>\n",
       "      <td>-0.190358</td>\n",
       "      <td>0.561055</td>\n",
       "    </tr>\n",
       "    <tr>\n",
       "      <th>8</th>\n",
       "      <td>-0.313638</td>\n",
       "      <td>0.312078</td>\n",
       "      <td>0.101304</td>\n",
       "      <td>0.494761</td>\n",
       "    </tr>\n",
       "    <tr>\n",
       "      <th>9</th>\n",
       "      <td>-1.125114</td>\n",
       "      <td>0.268578</td>\n",
       "      <td>1.288703</td>\n",
       "      <td>0.516528</td>\n",
       "    </tr>\n",
       "  </tbody>\n",
       "</table>\n",
       "</div>"
      ],
      "text/plain": [
       "          0         1         2         3\n",
       "0 -1.876971 -0.259872 -0.999725  0.851324\n",
       "1 -0.252894 -0.046496 -0.610357 -0.355466\n",
       "2  0.352271  0.837393  0.554234  0.784716\n",
       "3  1.052727  1.380456 -1.044765 -0.199342\n",
       "4  0.338041  0.149912 -0.348694 -2.024354\n",
       "5  0.788649  0.429558 -0.370100 -1.357453\n",
       "6 -0.602844 -0.105175 -1.353093  0.280141\n",
       "7  0.776817  0.784560 -0.190358  0.561055\n",
       "8 -0.313638  0.312078  0.101304  0.494761\n",
       "9 -1.125114  0.268578  1.288703  0.516528"
      ]
     },
     "execution_count": 5,
     "metadata": {},
     "output_type": "execute_result"
    }
   ],
   "source": [
    "target_data = pd.DataFrame(np.random.randn(10, 4))\n",
    "target_data"
   ]
  },
  {
   "cell_type": "code",
   "execution_count": 6,
   "metadata": {},
   "outputs": [],
   "source": [
    "predator = Predator(1, 2, 3, 4, name=\"ibrahim\", target_data=target_data)"
   ]
  },
  {
   "cell_type": "code",
   "execution_count": null,
   "metadata": {},
   "outputs": [],
   "source": []
  },
  {
   "cell_type": "code",
   "execution_count": null,
   "metadata": {},
   "outputs": [],
   "source": []
  },
  {
   "cell_type": "code",
   "execution_count": null,
   "metadata": {},
   "outputs": [],
   "source": []
  },
  {
   "cell_type": "code",
   "execution_count": null,
   "metadata": {},
   "outputs": [],
   "source": []
  },
  {
   "cell_type": "code",
   "execution_count": null,
   "metadata": {},
   "outputs": [],
   "source": []
  },
  {
   "cell_type": "code",
   "execution_count": null,
   "metadata": {},
   "outputs": [],
   "source": []
  },
  {
   "cell_type": "code",
   "execution_count": null,
   "metadata": {},
   "outputs": [],
   "source": []
  }
 ],
 "metadata": {
  "kernelspec": {
   "display_name": "Python [conda env:Anaconda3]",
   "language": "python",
   "name": "conda-env-Anaconda3-py"
  },
  "language_info": {
   "codemirror_mode": {
    "name": "ipython",
    "version": 3
   },
   "file_extension": ".py",
   "mimetype": "text/x-python",
   "name": "python",
   "nbconvert_exporter": "python",
   "pygments_lexer": "ipython3",
   "version": "3.8.5"
  }
 },
 "nbformat": 4,
 "nbformat_minor": 4
}
